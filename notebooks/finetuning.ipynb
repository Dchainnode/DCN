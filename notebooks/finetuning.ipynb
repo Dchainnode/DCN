{
  "nbformat": 4,
  "nbformat_minor": 0,
  "metadata": {
    "colab": {
      "name": "finetuning.ipynb",
      "provenance": [],
      "gpuType": "T4"
    },
    "kernelspec": {
      "name": "python3",
      "display_name": "Python 3"
    },
    "accelerator": "GPU"
  },
  "cells": [
    {
      "cell_type": "markdown",
      "metadata": {
        "id": "duPhpC7UYvOb"
      },
      "source": [
        "#**Setup**\n",
        "\n",
        "---\n",
        "\n"
      ]
    },
    {
      "cell_type": "code",
      "metadata": {
        "id": "08KZUbQnhKwE",
        "colab": {
          "base_uri": "https://localhost:8080/"
        },
        "outputId": "de80c6d7-5053-4d59-810c-1675404a4e80"
      },
      "source": [
        "\n",
        "!git clone https://github.com/ai4bharat/indic-bert\n",
        "%cd indic-bert\n",
        "!pip3 install -r requirements.txt\n",
        "%cd ..\n",
        "!mkdir indic-glue outputs"
      ],
      "execution_count": 1,
      "outputs": [
        {
          "output_type": "stream",
          "name": "stdout",
          "text": [
            "Cloning into 'indic-bert'...\n",
            "remote: Enumerating objects: 1192, done.\u001b[K\n",
            "remote: Counting objects: 100% (165/165), done.\u001b[K\n",
            "remote: Compressing objects: 100% (81/81), done.\u001b[K\n",
            "remote: Total 1192 (delta 98), reused 146 (delta 84), pack-reused 1027 (from 1)\u001b[K\n",
            "Receiving objects: 100% (1192/1192), 609.67 KiB | 12.97 MiB/s, done.\n",
            "Resolving deltas: 100% (733/733), done.\n",
            "/content/indic-bert\n",
            "\u001b[31mERROR: Could not find a version that satisfies the requirement tensorflow==1.15.2 (from versions: 2.12.0rc0, 2.12.0rc1, 2.12.0, 2.12.1, 2.13.0rc0, 2.13.0rc1, 2.13.0rc2, 2.13.0, 2.13.1, 2.14.0rc0, 2.14.0rc1, 2.14.0, 2.14.1, 2.15.0rc0, 2.15.0rc1, 2.15.0, 2.15.0.post1, 2.15.1, 2.16.0rc0, 2.16.1, 2.16.2, 2.17.0rc0, 2.17.0rc1, 2.17.0, 2.17.1, 2.18.0rc0, 2.18.0rc1, 2.18.0rc2, 2.18.0)\u001b[0m\u001b[31m\n",
            "\u001b[0m\u001b[31mERROR: No matching distribution found for tensorflow==1.15.2\u001b[0m\u001b[31m\n",
            "\u001b[0m/content\n"
          ]
        }
      ]
    },
    {
      "cell_type": "markdown",
      "metadata": {
        "id": "u4TbQgpAYrSL"
      },
      "source": [
        "#**Download Datasets**\n",
        "---\n"
      ]
    },
    {
      "cell_type": "code",
      "metadata": {
        "id": "B8Te43TtV9OV",
        "colab": {
          "base_uri": "https://localhost:8080/"
        },
        "outputId": "de3eda0e-8efa-4d1c-cf0c-541a5fa5968c"
      },
      "source": [
        "\n",
        "% cd indic-glue\n",
        "# Download the dataset -- insert link obtained from https://indicnlp.ai4bharat.org/indic-glue/#downloads\n",
        "!wget https://storage.googleapis.com/ai4bharat-public-indic-nlp-corpora/evaluations/wiki-cloze.tar.gz\n",
        "!tar -xaf wiki-cloze.tar.gz\n",
        "% cd ..\n"
      ],
      "execution_count": 2,
      "outputs": [
        {
          "output_type": "stream",
          "name": "stderr",
          "text": [
            "UsageError: Line magic function `%` not found.\n"
          ]
        }
      ]
    },
    {
      "cell_type": "markdown",
      "metadata": {
        "id": "cAs6r-QSUosR"
      },
      "source": [
        "#**Fine-tune the Model**\n",
        "---\n",
        "\n"
      ]
    },
    {
      "cell_type": "code",
      "metadata": {
        "id": "vUCIjREpQFhv"
      },
      "source": [
        "\n",
        "%cd indic-bert\n",
        "\n",
        "import os\n",
        "\n",
        "from fine_tune.cli import main as finetune_main\n",
        "\n",
        "argvec = ['--lang', 'gu',\n",
        "          '--dataset', 'wiki-cloze', # use the right dataset key, check https://github.com/AI4Bharat/indic-bert/blob/master/fine_tune/cli.py#L10\n",
        "          '--model', 'ai4bharat/indic-bert',\n",
        "          '--iglue_dir', '../indic-glue',\n",
        "          '--output_dir', '../outputs',\n",
        "          '--max_seq_length', '128',\n",
        "          '--learning_rate', '2e-5',\n",
        "          '--num_train_epochs', '3',\n",
        "          '--train_batch_size', '32'\n",
        "]\n",
        "\n",
        "finetune_main(argvec)"
      ],
      "execution_count": null,
      "outputs": []
    },
    {
      "cell_type": "markdown",
      "metadata": {
        "id": "zUh3Vw7SUwMW"
      },
      "source": [
        "#**Check the Results**\n",
        "---"
      ]
    },
    {
      "cell_type": "code",
      "metadata": {
        "id": "Ic0Qpfl-U0Xw"
      },
      "source": [
        "!cat /content/outputs/wiki-cloze/gu-gu/model-ai4bharat-indic-bert/test_results.txt"
      ],
      "execution_count": null,
      "outputs": []
    }
  ]
}